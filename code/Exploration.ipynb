{
 "cells": [
  {
   "cell_type": "code",
   "execution_count": 1,
   "metadata": {
    "collapsed": true
   },
   "outputs": [],
   "source": [
    "from nltk.model.ngram import LaplaceNgramModel\n",
    "from nltk.model.ngram import MLENgramModel\n",
    "from nltk.model.ngram import LidstoneNgramModel\n",
    "from nltk.model import count_ngrams\n",
    "from nltk.model import build_vocabulary"
   ]
  },
  {
   "cell_type": "code",
   "execution_count": 2,
   "metadata": {
    "collapsed": false
   },
   "outputs": [],
   "source": [
    "import kenlm\n",
    "import numpy as np"
   ]
  },
  {
   "cell_type": "code",
   "execution_count": 3,
   "metadata": {
    "collapsed": false
   },
   "outputs": [],
   "source": [
    "#corpus = 'data/50-cent.txt'\n",
    "#lm_file = 'data/50-cent.klm'\n",
    "\n",
    "corpus = 'data/processed-lyrics.txt'\n",
    "lm_file = 'data/lyrics.klm'\n",
    "\n",
    "#corpus = 'data/chief-keef.txt'\n",
    "#lm_file = 'data/chief-keef.klm'\n",
    "\n",
    "sentences = map(lambda x : x.split(' '), open(corpus, 'r').read().split('\\n'))\n",
    "text = [val for sub in sentences for val in sub]\n",
    "text = filter(lambda x : x != '', text)\n",
    "\n",
    "vocab = build_vocabulary(1000, text)\n",
    "model = kenlm.Model(lm_file)"
   ]
  },
  {
   "cell_type": "code",
   "execution_count": 6,
   "metadata": {
    "collapsed": false
   },
   "outputs": [
    {
     "name": "stdout",
     "output_type": "stream",
     "text": [
      " together like all contributin to glarin so became rich i wanna go slow sippin reunion into they fall bak lata \n",
      " help up but im stability \n",
      " known to me \n",
      " and pit bulls and roy a st andrews lbq as big forever stereo night \n",
      " sores \n",
      " crack nigga shed a classic \n",
      " strange to ring \n",
      " from yount yall respect \n",
      " real son you know when it tis motion \n",
      " we eventually boy i got canaries thugged out \n",
      "\n"
     ]
    }
   ],
   "source": [
    "words = vocab.keys()\n",
    "\n",
    "context = ''\n",
    "sent = context\n",
    "word = ''\n",
    "ii = 0\n",
    "jj = 0\n",
    "\n",
    "while ii < 10:\n",
    "    scores = np.array(map(lambda word : 10 ** model.score(context + ' ' + word, bos=False, eos=False), words))\n",
    "    scores = scores / np.sum(scores)\n",
    "    \n",
    "    word = np.random.choice(words, p=scores)\n",
    "    \n",
    "    index = np.argmax(scores)\n",
    "    max_word = words[index]\n",
    "    \n",
    "    '''\n",
    "    if max_word == '<nl>':\n",
    "        word = '<nl>'\n",
    "    \n",
    "    while word == '<nl>' and jj < 8:\n",
    "        word = np.random.choice(words, p=scores)\n",
    "    '''\n",
    "    \n",
    "    if scores.max() > 0.7 and max_word == '<nl>':\n",
    "        word = '<nl>'\n",
    "    \n",
    "        \n",
    "    context = ' '.join(context.split()[1:] + [word])\n",
    "    sent = sent + ' ' + word\n",
    "    \n",
    "    if word == '<nl>':\n",
    "        ii = ii + 1\n",
    "        jj = -1\n",
    "    \n",
    "    jj = jj + 1\n",
    "    \n",
    "sent = sent.replace('<nl>', '\\n')\n",
    "sent = sent.replace('<nv>', '')\n",
    "\n",
    "print sent"
   ]
  },
  {
   "cell_type": "code",
   "execution_count": 16,
   "metadata": {
    "collapsed": false
   },
   "outputs": [
    {
     "data": {
      "text/plain": [
       "3.3299883104785013"
      ]
     },
     "execution_count": 16,
     "metadata": {},
     "output_type": "execute_result"
    }
   ],
   "source": [
    "model.perplexity(' '.join(text))"
   ]
  },
  {
   "cell_type": "code",
   "execution_count": 31,
   "metadata": {
    "collapsed": false
   },
   "outputs": [
    {
     "data": {
      "text/plain": [
       "' outta onassis wise <s> <nv> weve ever since like an island kids left <nl> my <s> <nv> girl i bounce your wish they out just remember what youd <s> <nv> <s> <nv> if offers cos i need a hearse <s> <nv> he <s> uh <s> verse <s> <s> <s> <nv> salt <s> <nv> yea <s> <nv> aim and <s> <nl> woman not even if she came janet toni get in heaven designed wais <s> <nv> voice economics <nl> tears <s> <nv> first and shit you out that <s> <nv> one with lyrics <s> <nv> uh from mr <s> covered by made <s> <nv> <s> <nv> bump <s> <nv> last forever <s> typed that from la la <s> [r <s> ithittinrockinjust so premier <nl> now that it <s> i won crude light <s> <nv> yea yea here <s> <nv> every morning wake up fucked <s> magik <s> <nv> since mayne <s> how our until my <s> <nv> horse shit a burned <nl> this dboys <s> <nv> uhh <s> well probly shit we friends <nl> is my nine times'"
      ]
     },
     "execution_count": 31,
     "metadata": {},
     "output_type": "execute_result"
    }
   ],
   "source": [
    "sent"
   ]
  },
  {
   "cell_type": "code",
   "execution_count": null,
   "metadata": {
    "collapsed": true
   },
   "outputs": [],
   "source": []
  }
 ],
 "metadata": {
  "anaconda-cloud": {},
  "kernelspec": {
   "display_name": "Python [default]",
   "language": "python",
   "name": "python2"
  },
  "language_info": {
   "codemirror_mode": {
    "name": "ipython",
    "version": 2
   },
   "file_extension": ".py",
   "mimetype": "text/x-python",
   "name": "python",
   "nbconvert_exporter": "python",
   "pygments_lexer": "ipython2",
   "version": "2.7.9"
  }
 },
 "nbformat": 4,
 "nbformat_minor": 1
}
