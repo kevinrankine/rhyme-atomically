{
 "cells": [
  {
   "cell_type": "code",
   "execution_count": 1,
   "metadata": {
    "collapsed": false
   },
   "outputs": [],
   "source": [
    "from nltk.model.ngram import LaplaceNgramModel\n",
    "from nltk.model.ngram import MLENgramModel\n",
    "from nltk.model.ngram import LidstoneNgramModel\n",
    "from nltk.model import count_ngrams\n",
    "from nltk.model import build_vocabulary\n",
    "import kenlm\n",
    "import numpy as np"
   ]
  },
  {
   "cell_type": "code",
   "execution_count": 27,
   "metadata": {
    "collapsed": false
   },
   "outputs": [],
   "source": [
    "corpus = '50-cent.txt'\n",
    "lm_file = '50-cent.klm'\n",
    "\n",
    "# corpus = 'data/processed-lyrics.txt'\n",
    "# lm_file = 'data/lyrics.klm'\n",
    "\n",
    "sentences = map(lambda x : x.split(' '), open(corpus, 'r').read().split('\\n'))\n",
    "text = [val for sub in sentences for val in sub]\n",
    "text = filter(lambda x : x != '', text)\n",
    "\n",
    "vocab = build_vocabulary(1, text)\n",
    "# counter = count_ngrams(2, vocab, sentences)\n",
    "# model = MLENgramModel(counter)\n",
    "model = kenlm.Model(lm_file)"
   ]
  },
  {
   "cell_type": "code",
   "execution_count": 30,
   "metadata": {
    "collapsed": false
   },
   "outputs": [
    {
     "name": "stdout",
     "output_type": "stream",
     "text": [
      "\n",
      "[Verse]\n",
      " every hood and nigga put im on your crib up pain \n",
      " either ride benihanas to ask appears sworn kim yeah estamos ready to wallace lil i aint garage \n",
      " when the strap filled with residue \n",
      " or a thug \n",
      "[Verse]\n",
      "\n"
     ]
    }
   ],
   "source": [
    "words = vocab.keys()\n",
    "\n",
    "context = '<nv> every hood'\n",
    "sent = context\n",
    "word = ''\n",
    "ii = 0\n",
    "\n",
    "while word != '<nv>':\n",
    "    scores = np.array(map(lambda word : 10 ** model.score(context + ' ' + word, bos=False, eos=False), words))\n",
    "    scores = scores / np.sum(scores)\n",
    "    \n",
    "    word = np.random.choice(words, p=scores)\n",
    "    \n",
    "    #index = np.argmax(scores)\n",
    "    #word = words[index]\n",
    "\n",
    "    context = ' '.join(context.split()[1:] + [word])\n",
    "    sent = sent + ' ' + word\n",
    "    ii = ii + 1\n",
    "    \n",
    "sent = sent.replace('<nl>', '\\n')\n",
    "sent = sent.replace('<nv>', '\\n[Verse]\\n')\n",
    "\n",
    "print sent"
   ]
  },
  {
   "cell_type": "code",
   "execution_count": 23,
   "metadata": {
    "collapsed": false
   },
   "outputs": [
    {
     "data": {
      "text/plain": [
       "'\\n[Verse]\\n obama couldnt 504 spillin on these clothes poppin bitch \\n get strapped in here kids watch it was wild as the shits ridiculous \\n to his punchline \\n t you on rap shit tyler electric chairs heterosexual \\n supernatural em pigeontoed home was nominated hollerin thoughts why did it at \\n[Verse]\\n'"
      ]
     },
     "execution_count": 23,
     "metadata": {},
     "output_type": "execute_result"
    }
   ],
   "source": [
    "sent"
   ]
  },
  {
   "cell_type": "code",
   "execution_count": null,
   "metadata": {
    "collapsed": true
   },
   "outputs": [],
   "source": []
  }
 ],
 "metadata": {
  "anaconda-cloud": {},
  "kernelspec": {
   "display_name": "Python [default]",
   "language": "python",
   "name": "python2"
  },
  "language_info": {
   "codemirror_mode": {
    "name": "ipython",
    "version": 2
   },
   "file_extension": ".py",
   "mimetype": "text/x-python",
   "name": "python",
   "nbconvert_exporter": "python",
   "pygments_lexer": "ipython2",
   "version": "2.7.9"
  }
 },
 "nbformat": 4,
 "nbformat_minor": 1
}
